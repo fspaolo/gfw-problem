{
 "cells": [
  {
   "cell_type": "markdown",
   "metadata": {},
   "source": [
    "For this example we will use the [YOLOv3](https://pjreddie.com/darknet/yolo/), a convolutional neural network for real-time object detection, wich is build on top of [Darknet](https://pjreddie.com/darknet/): an open source neural network framework written in C and CUDA. YOLOv3 can run on both CPUs and GPUs, and its source code is transparent and \"easy\" to modify for specific needs (e.g. data I/O format)."
   ]
  },
  {
   "cell_type": "markdown",
   "metadata": {},
   "source": [
    "Download Darknet to local folder"
   ]
  },
  {
   "cell_type": "code",
   "execution_count": 2,
   "metadata": {},
   "outputs": [
    {
     "name": "stdout",
     "output_type": "stream",
     "text": [
      "Cloning into 'darknet'...\n",
      "remote: Enumerating objects: 5901, done.\u001b[K\n",
      "remote: Total 5901 (delta 0), reused 0 (delta 0), pack-reused 5901\u001b[K\n",
      "Receiving objects: 100% (5901/5901), 6.17 MiB | 2.96 MiB/s, done.\n",
      "Resolving deltas: 100% (3923/3923), done.\n"
     ]
    }
   ],
   "source": [
    "! git clone https://github.com/pjreddie/darknet\n",
    "%cd darknet"
   ]
  },
  {
   "cell_type": "markdown",
   "metadata": {},
   "source": [
    "Change configuration files to run on GPUs (by default YOLOv3 runs on CPUs)"
   ]
  },
  {
   "cell_type": "code",
   "execution_count": 7,
   "metadata": {},
   "outputs": [
    {
     "name": "stdout",
     "output_type": "stream",
     "text": [
      "/Users/paolofer/work/gfw-problem/darknet\n"
     ]
    }
   ],
   "source": [
    "\n",
    "! sed -i "
   ]
  },
  {
   "cell_type": "code",
   "execution_count": 6,
   "metadata": {},
   "outputs": [
    {
     "name": "stdout",
     "output_type": "stream",
     "text": [
      "/Users/paolofer/work/gfw-problem\n"
     ]
    }
   ],
   "source": [
    "! pwd"
   ]
  },
  {
   "cell_type": "code",
   "execution_count": null,
   "metadata": {},
   "outputs": [],
   "source": []
  }
 ],
 "metadata": {
  "kernelspec": {
   "display_name": "Python 3",
   "language": "python",
   "name": "python3"
  },
  "language_info": {
   "codemirror_mode": {
    "name": "ipython",
    "version": 3
   },
   "file_extension": ".py",
   "mimetype": "text/x-python",
   "name": "python",
   "nbconvert_exporter": "python",
   "pygments_lexer": "ipython3",
   "version": "3.7.4"
  }
 },
 "nbformat": 4,
 "nbformat_minor": 4
}
